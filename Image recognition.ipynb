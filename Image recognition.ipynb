{
 "cells": [
  {
   "cell_type": "code",
   "execution_count": 1,
   "metadata": {},
   "outputs": [],
   "source": [
    "import cv2\n",
    "cam=cv2.VideoCapture(0) #0 for  system webcam\n",
    "while(1):\n",
    "    ret,image=cam.read()#reads image\n",
    "    face=cv2.CascadeClassifier(\"C:\\haarcascade_frontalface_default.xml\")#xml file stored in c drive\n",
    "    dark=cv2.cvtColor(image,cv2.COLOR_BGR2GRAY)#reading the image as gray scale image\n",
    "    face_find=face.detectMultiScale(dark, scaleFactor=1.05,minNeighbors=5)\n",
    "    for(x,y,w,h)in face_find:\n",
    "        image=cv2.rectangle(image, (x,y),(x+w,y+h),(0,255,0),3)\n",
    "    scaled=cv2.resize(image,(500,600))\n",
    "    cv2.imshow(\"GRAY\",scaled)\n",
    "    cv2.waitKey(0)\n",
    "    cam.release()\n",
    "    break\n",
    "cv2.destroyAllWindows()"
   ]
  },
  {
   "cell_type": "code",
   "execution_count": null,
   "metadata": {},
   "outputs": [],
   "source": []
  },
  {
   "cell_type": "code",
   "execution_count": 12,
   "metadata": {},
   "outputs": [],
   "source": []
  },
  {
   "cell_type": "code",
   "execution_count": null,
   "metadata": {},
   "outputs": [],
   "source": []
  }
 ],
 "metadata": {
  "kernelspec": {
   "display_name": "Python 3",
   "language": "python",
   "name": "python3"
  },
  "language_info": {
   "codemirror_mode": {
    "name": "ipython",
    "version": 3
   },
   "file_extension": ".py",
   "mimetype": "text/x-python",
   "name": "python",
   "nbconvert_exporter": "python",
   "pygments_lexer": "ipython3",
   "version": "3.7.3"
  }
 },
 "nbformat": 4,
 "nbformat_minor": 2
}
