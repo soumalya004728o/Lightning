{
 "cells": [
  {
   "cell_type": "code",
   "execution_count": 2,
   "metadata": {},
   "outputs": [
    {
     "data": {
      "text/plain": [
       "LinearRegression(copy_X=True, fit_intercept=True, n_jobs=None, normalize=False)"
      ]
     },
     "execution_count": 2,
     "metadata": {},
     "output_type": "execute_result"
    }
   ],
   "source": [
    "import numpy as np\n",
    "import pandas as pd\n",
    "df= pd.read_csv(\"c:\\datafile_final.csv\")\n",
    "df.head()\n",
    "y=df.ANNUAL\n",
    "df.drop(\"SUBDIVISION\", axis = 1, inplace = True)\n",
    "df.drop(\"ANNUAL\", axis = 1, inplace = True)\n",
    "x = df\n",
    "from sklearn.model_selection import train_test_split\n",
    "x_train, x_test, y_train, y_test = train_test_split (x,y,test_size = 0.2)\n",
    "x_train\n",
    "y_train\n",
    "from sklearn.linear_model import LinearRegression\n",
    "lr = LinearRegression()\n",
    "#error coming in fit statement\n",
    "lr.fit(x_train,y_train)#training algorithm\n"
   ]
  },
  {
   "cell_type": "code",
   "execution_count": 3,
   "metadata": {},
   "outputs": [
    {
     "data": {
      "text/plain": [
       "0.9916263667838477"
      ]
     },
     "execution_count": 3,
     "metadata": {},
     "output_type": "execute_result"
    }
   ],
   "source": [
    "lr.coef_ #to see slope\n",
    "lr.intercept_ #to see intercept\n",
    "lr.score(x_test,y_test)#to  see acuraccy  percentage\n"
   ]
  },
  {
   "cell_type": "code",
   "execution_count": 6,
   "metadata": {},
   "outputs": [
    {
     "data": {
      "text/plain": [
       "<matplotlib.collections.PathCollection at 0x1c58cf6fe80>"
      ]
     },
     "execution_count": 6,
     "metadata": {},
     "output_type": "execute_result"
    },
    {
     "data": {
      "image/png": "[encoded data removed]",
      "text/plain": [
       "<Figure size 432x288 with 1 Axes>"
      ]
     },
     "metadata": {
      "needs_background": "light"
     },
     "output_type": "display_data"
    }
   ],
   "source": [
    "y_prediction=lr.predict(x)\n",
    "y_prediction\n",
    "import matplotlib.pyplot as plt\n",
    "plt.scatter(y,y_prediction,color='r')\n",
    "plt.scatter(df.YEAR,y,color='y')\n"
   ]
  },
  {
   "cell_type": "code",
   "execution_count": 10,
   "metadata": {},
   "outputs": [
    {
     "data": {
      "text/html": [
       "<div>\n",
       "<style scoped>\n",
       "    .dataframe tbody tr th:only-of-type {\n",
       "        vertical-align: middle;\n",
       "    }\n",
       "\n",
       "    .dataframe tbody tr th {\n",
       "        vertical-align: top;\n",
       "    }\n",
       "\n",
       "    .dataframe thead th {\n",
       "        text-align: right;\n",
       "    }\n",
       "</style>\n",
       "<table border=\"1\" class=\"dataframe\">\n",
       "  <thead>\n",
       "    <tr style=\"text-align: right;\">\n",
       "      <th></th>\n",
       "      <th>Sub code</th>\n",
       "      <th>YEAR</th>\n",
       "      <th>JAN</th>\n",
       "      <th>FEB</th>\n",
       "      <th>MAR</th>\n",
       "      <th>APR</th>\n",
       "      <th>MAY</th>\n",
       "      <th>JUN</th>\n",
       "      <th>JUL</th>\n",
       "      <th>AUG</th>\n",
       "      <th>SEP</th>\n",
       "      <th>OCT</th>\n",
       "      <th>NOV</th>\n",
       "      <th>DEC</th>\n",
       "      <th>JF</th>\n",
       "      <th>MAM</th>\n",
       "      <th>JJAS</th>\n",
       "      <th>OND</th>\n",
       "    </tr>\n",
       "  </thead>\n",
       "  <tbody>\n",
       "    <tr>\n",
       "      <th>0</th>\n",
       "      <td>1</td>\n",
       "      <td>1901</td>\n",
       "      <td>49.2</td>\n",
       "      <td>87.1</td>\n",
       "      <td>29.2</td>\n",
       "      <td>2.3</td>\n",
       "      <td>528.8</td>\n",
       "      <td>517.5</td>\n",
       "      <td>365.1</td>\n",
       "      <td>481.1</td>\n",
       "      <td>332.6</td>\n",
       "      <td>388.5</td>\n",
       "      <td>558.2</td>\n",
       "      <td>33.6</td>\n",
       "      <td>136.3</td>\n",
       "      <td>560.3</td>\n",
       "      <td>1696.3</td>\n",
       "      <td>980.3</td>\n",
       "    </tr>\n",
       "    <tr>\n",
       "      <th>1</th>\n",
       "      <td>1</td>\n",
       "      <td>1902</td>\n",
       "      <td>0.0</td>\n",
       "      <td>159.8</td>\n",
       "      <td>12.2</td>\n",
       "      <td>0.0</td>\n",
       "      <td>446.1</td>\n",
       "      <td>537.1</td>\n",
       "      <td>228.9</td>\n",
       "      <td>753.7</td>\n",
       "      <td>666.2</td>\n",
       "      <td>197.2</td>\n",
       "      <td>359.0</td>\n",
       "      <td>160.5</td>\n",
       "      <td>159.8</td>\n",
       "      <td>458.3</td>\n",
       "      <td>2185.9</td>\n",
       "      <td>716.7</td>\n",
       "    </tr>\n",
       "    <tr>\n",
       "      <th>2</th>\n",
       "      <td>1</td>\n",
       "      <td>1903</td>\n",
       "      <td>12.7</td>\n",
       "      <td>144.0</td>\n",
       "      <td>0.0</td>\n",
       "      <td>1.0</td>\n",
       "      <td>235.1</td>\n",
       "      <td>479.9</td>\n",
       "      <td>728.4</td>\n",
       "      <td>326.7</td>\n",
       "      <td>339.0</td>\n",
       "      <td>181.2</td>\n",
       "      <td>284.4</td>\n",
       "      <td>225.0</td>\n",
       "      <td>156.7</td>\n",
       "      <td>236.1</td>\n",
       "      <td>1874.0</td>\n",
       "      <td>690.6</td>\n",
       "    </tr>\n",
       "    <tr>\n",
       "      <th>3</th>\n",
       "      <td>1</td>\n",
       "      <td>1904</td>\n",
       "      <td>9.4</td>\n",
       "      <td>14.7</td>\n",
       "      <td>0.0</td>\n",
       "      <td>202.4</td>\n",
       "      <td>304.5</td>\n",
       "      <td>495.1</td>\n",
       "      <td>502.0</td>\n",
       "      <td>160.1</td>\n",
       "      <td>820.4</td>\n",
       "      <td>222.2</td>\n",
       "      <td>308.7</td>\n",
       "      <td>40.1</td>\n",
       "      <td>24.1</td>\n",
       "      <td>506.9</td>\n",
       "      <td>1977.6</td>\n",
       "      <td>571.0</td>\n",
       "    </tr>\n",
       "    <tr>\n",
       "      <th>4</th>\n",
       "      <td>1</td>\n",
       "      <td>1905</td>\n",
       "      <td>1.3</td>\n",
       "      <td>0.0</td>\n",
       "      <td>3.3</td>\n",
       "      <td>26.9</td>\n",
       "      <td>279.5</td>\n",
       "      <td>628.7</td>\n",
       "      <td>368.7</td>\n",
       "      <td>330.5</td>\n",
       "      <td>297.0</td>\n",
       "      <td>260.7</td>\n",
       "      <td>25.4</td>\n",
       "      <td>344.7</td>\n",
       "      <td>1.3</td>\n",
       "      <td>309.7</td>\n",
       "      <td>1624.9</td>\n",
       "      <td>630.8</td>\n",
       "    </tr>\n",
       "  </tbody>\n",
       "</table>\n",
       "</div>"
      ],
      "text/plain": [
       "   Sub code  YEAR   JAN    FEB   MAR    APR    MAY    JUN    JUL    AUG  \\\n",
       "0         1  1901  49.2   87.1  29.2    2.3  528.8  517.5  365.1  481.1   \n",
       "1         1  1902   0.0  159.8  12.2    0.0  446.1  537.1  228.9  753.7   \n",
       "2         1  1903  12.7  144.0   0.0    1.0  235.1  479.9  728.4  326.7   \n",
       "3         1  1904   9.4   14.7   0.0  202.4  304.5  495.1  502.0  160.1   \n",
       "4         1  1905   1.3    0.0   3.3   26.9  279.5  628.7  368.7  330.5   \n",
       "\n",
       "     SEP    OCT    NOV    DEC     JF    MAM    JJAS    OND  \n",
       "0  332.6  388.5  558.2   33.6  136.3  560.3  1696.3  980.3  \n",
       "1  666.2  197.2  359.0  160.5  159.8  458.3  2185.9  716.7  \n",
       "2  339.0  181.2  284.4  225.0  156.7  236.1  1874.0  690.6  \n",
       "3  820.4  222.2  308.7   40.1   24.1  506.9  1977.6  571.0  \n",
       "4  297.0  260.7   25.4  344.7    1.3  309.7  1624.9  630.8  "
      ]
     },
     "execution_count": 10,
     "metadata": {},
     "output_type": "execute_result"
    }
   ],
   "source": [
    "df.head()"
   ]
  },
  {
   "cell_type": "code",
   "execution_count": 7,
   "metadata": {},
   "outputs": [
    {
     "name": "stdout",
     "output_type": "stream",
     "text": [
      "0       3373.2\n",
      "1       3520.7\n",
      "2       2957.4\n",
      "3       3079.6\n",
      "4       2566.7\n",
      "5       2534.4\n",
      "6       3347.9\n",
      "7       3576.4\n",
      "8       2899.4\n",
      "9       2687.2\n",
      "10      2960.5\n",
      "11      2365.8\n",
      "12      2957.8\n",
      "13      2741.3\n",
      "14      2937.5\n",
      "15      2612.4\n",
      "16      3275.0\n",
      "17      2352.1\n",
      "18      2943.2\n",
      "19      2606.4\n",
      "20      3554.2\n",
      "21         0.0\n",
      "22         0.0\n",
      "23      2480.5\n",
      "24      3282.2\n",
      "25      2442.9\n",
      "26      2998.3\n",
      "27      2926.6\n",
      "28      3075.1\n",
      "29      2357.7\n",
      "         ...  \n",
      "4158    1450.8\n",
      "4159    1714.4\n",
      "4160    1310.5\n",
      "4161    1583.0\n",
      "4162    1534.9\n",
      "4163    1449.7\n",
      "4164    1547.1\n",
      "4165    2030.9\n",
      "4166    1606.0\n",
      "4167    1764.7\n",
      "4168    1986.9\n",
      "4169    1857.3\n",
      "4170    1372.1\n",
      "4171    1380.6\n",
      "4172    1033.5\n",
      "4173    1532.9\n",
      "4174    1553.2\n",
      "4175    1575.4\n",
      "4176    1598.6\n",
      "4177    2361.6\n",
      "4178    1726.8\n",
      "4179    1570.1\n",
      "4180    1725.2\n",
      "4181    1533.7\n",
      "4182    1405.5\n",
      "4183    1426.3\n",
      "4184    1395.0\n",
      "4185    1642.9\n",
      "4186    1065.7\n",
      "4187    1738.9\n",
      "Name: ANNUAL, Length: 4188, dtype: float64\n"
     ]
    }
   ],
   "source": [
    "print(y)"
   ]
  },
  {
   "cell_type": "code",
   "execution_count": null,
   "metadata": {},
   "outputs": [],
   "source": []
  }
 ],
 "metadata": {
  "kernelspec": {
   "display_name": "Python 3",
   "language": "python",
   "name": "python3"
  },
  "language_info": {
   "codemirror_mode": {
    "name": "ipython",
    "version": 3
   },
   "file_extension": ".py",
   "mimetype": "text/x-python",
   "name": "python",
   "nbconvert_exporter": "python",
   "pygments_lexer": "ipython3",
   "version": "3.7.3"
  }
 },
 "nbformat": 4,
 "nbformat_minor": 2
}
