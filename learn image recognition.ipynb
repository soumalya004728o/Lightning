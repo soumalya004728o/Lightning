{
 "cells": [
  {
   "cell_type": "code",
   "execution_count": 9,
   "metadata": {},
   "outputs": [
    {
     "name": "stdout",
     "output_type": "stream",
     "text": [
      "(1280, 720, 3)\n"
     ]
    }
   ],
   "source": [
    "import cv2\n",
    "#image reading from storage\n",
    "img= cv2.imread (\"C:\\IMG_20180904_151827.jpg\",1)#1 for color image ,0  for  black & white image\n",
    "print(img.shape)\n",
    "cv2.imshow(\"myimage\",img)\n",
    "cv2.waitKey(2000)# 0 means waits  for any key press to close  \n",
    "cv2.destroyAllWindows()"
   ]
  },
  {
   "cell_type": "raw",
   "metadata": {},
   "source": []
  },
  {
   "cell_type": "code",
   "execution_count": 10,
   "metadata": {},
   "outputs": [
    {
     "name": "stdout",
     "output_type": "stream",
     "text": [
      "<class 'numpy.ndarray'>\n",
      "[[234 545 314 314]]\n"
     ]
    }
   ],
   "source": [
    "img= cv2.imread (\"C:\\IMG_20180904_151827.jpg\",1)\n",
    "face=cv2.CascadeClassifier(\"C:\\haarcascade_frontalface_default.xml\")#xml file stored in c drive\n",
    "gray=cv2.cvtColor(img,cv2.COLOR_BGR2GRAY)#reading the image as gray scale image\n",
    "face_find=face.detectMultiScale(gray, scaleFactor=1.05,minNeighbors=5)\n",
    "print(type(face_find))\n",
    "print(face_find)\n",
    "for(x,y,w,h)in face_find:\n",
    "    img=cv2.rectangle(img, (x,y),(x+w,y+h),(0,255,0),3)\n",
    "resized=cv2.resize(img,(500,600))\n",
    "cv2.imshow(\"GRAY\",resized)\n",
    "cv2.waitKey(0)\n",
    "cv2.destroyAllWindows()"
   ]
  },
  {
   "cell_type": "code",
   "execution_count": 11,
   "metadata": {},
   "outputs": [],
   "source": [
    "    #resizing image on storage\n",
    "resize=cv2.resize(img,(500,600))\n",
    "cv2.imshow(\"resized\",resize)\n",
    "cv2.waitKey(2000)\n",
    "cv2.destroyAllWindows()"
   ]
  },
  {
   "cell_type": "code",
   "execution_count": 14,
   "metadata": {},
   "outputs": [
    {
     "name": "stdout",
     "output_type": "stream",
     "text": [
      "<class 'numpy.ndarray'>\n",
      "(480, 640, 3)\n"
     ]
    }
   ],
   "source": [
    "#image reading from camera\n",
    "import cv2\n",
    "cam= cv2.VideoCapture(0)#0 for  system webcam\n",
    "while(1):\n",
    "    ret, image1=cam.read()#reads image\n",
    "    print(type(image1))#shows image type\n",
    "    print(image1.shape)\n",
    "    cv2.imshow(\"IMAGE1\",image1)\n",
    "    cv2.waitKey(2000)\n",
    "    break\n",
    "cv2.destroyAllWindows()"
   ]
  },
  {
   "cell_type": "code",
   "execution_count": 15,
   "metadata": {},
   "outputs": [],
   "source": [
    "#resizing image shot on camera\n",
    "Resize=cv2.resize(image1, (int(image1.shape[1]/2),int(image1.shape[0]/2)))\n",
    "cv2.imshow(\"resized\",Resize)\n",
    "cv2.waitKey(2000)\n",
    "cv2.destroyAllWindows()"
   ]
  },
  {
   "cell_type": "code",
   "execution_count": 12,
   "metadata": {},
   "outputs": [
    {
     "name": "stdout",
     "output_type": "stream",
     "text": [
      "<class 'tuple'>\n",
      "()\n"
     ]
    }
   ],
   "source": []
  },
  {
   "cell_type": "code",
   "execution_count": null,
   "metadata": {},
   "outputs": [],
   "source": []
  }
 ],
 "metadata": {
  "kernelspec": {
   "display_name": "Python 3",
   "language": "python",
   "name": "python3"
  },
  "language_info": {
   "codemirror_mode": {
    "name": "ipython",
    "version": 3
   },
   "file_extension": ".py",
   "mimetype": "text/x-python",
   "name": "python",
   "nbconvert_exporter": "python",
   "pygments_lexer": "ipython3",
   "version": "3.7.3"
  }
 },
 "nbformat": 4,
 "nbformat_minor": 2
}
