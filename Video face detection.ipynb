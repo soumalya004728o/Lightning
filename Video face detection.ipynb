{
 "cells": [
  {
   "cell_type": "code",
   "execution_count": 2,
   "metadata": {},
   "outputs": [],
   "source": [
    "import cv2\n",
    "cam=cv2.VideoCapture(0)\n",
    "while(True):\n",
    "    ret,image=cam.read()#reads image\n",
    "#for face\n",
    "    face=cv2.CascadeClassifier(\"C:\\haarcascade_frontalface_default.xml\")#xml file stored in c drive\n",
    "    eye=cv2.CascadeClassifier(\"c:\\eye.xml\")\n",
    "    gray=cv2.cvtColor(image,cv2.COLOR_BGR2GRAY)#reading the image as gray scale image\n",
    "    face_find=face.detectMultiScale(gray, 1.05, 3)\n",
    "    for(x,y,w,h)in face_find:\n",
    "        image=cv2.rectangle(image,(x,y),(x+w,y+h),(255,0,0),2)\n",
    "        roi_gray=gray[y:y+h,x:x+w]\n",
    "        roi_color=image[y:y+h,x:x+w]\n",
    "        eye_find=eye.detectMultiScale(roi_gray)\n",
    "#for eyes...\n",
    "        for(ex,ey,eh,ew) in eye_find:\n",
    "            cv2.rectangle(roi_color,(ex,ey),(ex+ew,ey+eh),(0,255,0),2)\n",
    "    cv2.imshow(\"GRAY\",image)\n",
    "    if cv2.waitKey(1)& 0xFF==ord('q'):\n",
    "        break\n",
    "cam.release()    \n",
    "cv2.destroyAllWindows()"
   ]
  },
  {
   "cell_type": "code",
   "execution_count": null,
   "metadata": {},
   "outputs": [],
   "source": []
  },
  {
   "cell_type": "code",
   "execution_count": null,
   "metadata": {},
   "outputs": [],
   "source": []
  }
 ],
 "metadata": {
  "kernelspec": {
   "display_name": "Python 3",
   "language": "python",
   "name": "python3"
  },
  "language_info": {
   "codemirror_mode": {
    "name": "ipython",
    "version": 3
   },
   "file_extension": ".py",
   "mimetype": "text/x-python",
   "name": "python",
   "nbconvert_exporter": "python",
   "pygments_lexer": "ipython3",
   "version": "3.7.3"
  }
 },
 "nbformat": 4,
 "nbformat_minor": 2
}
